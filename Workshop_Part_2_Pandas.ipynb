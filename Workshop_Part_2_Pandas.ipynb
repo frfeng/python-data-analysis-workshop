{
 "cells": [
  {
   "cell_type": "markdown",
   "metadata": {},
   "source": [
    "# Introduction to Data Analysis in Python\n",
    "\n",
    "## Part II - Data analysis using the `pandas` library\n",
    "\n",
    "### Instructor: Fred Feng"
   ]
  },
  {
   "cell_type": "markdown",
   "metadata": {},
   "source": [
    "<hr style=\"height:2px; border:none; color:black; background-color:black;\">"
   ]
  },
  {
   "cell_type": "markdown",
   "metadata": {},
   "source": [
    "### Pandas is a flexible and powerful Python library for data analysis (https://pandas.pydata.org/).\n",
    "\n",
    "To use pandas, we first need to import the `pandas` library."
   ]
  },
  {
   "cell_type": "code",
   "execution_count": null,
   "metadata": {},
   "outputs": [],
   "source": []
  },
  {
   "cell_type": "markdown",
   "metadata": {},
   "source": [
    "### Loading a data file\n",
    "\n",
    "#### Let's use a data set of police-reported road crashes that involves pedestrians in Wayne County, MI (2010-2018). \n",
    "\n",
    "Data source: \n",
    "https://www.michigantrafficcrashfacts.org/querytool/table/2#q1;2;2018;o82;0,37:1|2,3:1&p0,4:0,2:0,3:0,5:0,6:0,8:0,54:0,31:0,24:0,76:0,16:0,49:2,3:2,9:2,10||0|1000\n",
    "\n",
    "#### The data file is `ped_crashes.csv`\n",
    "\n",
    "First let's use the pandas `read_csv` function to read in the data set from the CSV (Comma-Separated Values) file.\n",
    "\n",
    "\n"
   ]
  },
  {
   "cell_type": "code",
   "execution_count": null,
   "metadata": {},
   "outputs": [],
   "source": []
  },
  {
   "cell_type": "markdown",
   "metadata": {},
   "source": [
    "We can take a quick look at the loaded data (called a \"dataframe\") using pandas method `.head()` or `.tail()`. \n",
    "\n",
    "It checks the first or last few rows of the dataframe."
   ]
  },
  {
   "cell_type": "code",
   "execution_count": null,
   "metadata": {},
   "outputs": [],
   "source": []
  },
  {
   "cell_type": "markdown",
   "metadata": {},
   "source": [
    "Pandas `.shape` attribute returns the dataframe's dimensionality (numbers of rows and columns)."
   ]
  },
  {
   "cell_type": "code",
   "execution_count": null,
   "metadata": {},
   "outputs": [],
   "source": []
  },
  {
   "cell_type": "markdown",
   "metadata": {},
   "source": [
    "### Checking data types\n",
    "\n",
    "The data set has texts and numbers. We need to check they are indeed what they should be in the dataframe.\n",
    "\n",
    "Pandas `.dtypes` attribute returns the data type of each column. "
   ]
  },
  {
   "cell_type": "code",
   "execution_count": null,
   "metadata": {},
   "outputs": [],
   "source": []
  },
  {
   "cell_type": "markdown",
   "metadata": {},
   "source": [
    "Pandas `.columns` attribute returns the column headers."
   ]
  },
  {
   "cell_type": "code",
   "execution_count": null,
   "metadata": {},
   "outputs": [],
   "source": []
  },
  {
   "cell_type": "markdown",
   "metadata": {},
   "source": [
    "### Renaming column names\n",
    "The original column names have spaces (and are long-ish), which may make the dataframe a little harder to work with. Let's rename them.\n",
    "\n",
    "To rename columns names, we can assign a list of new column names to the dataframe's `columns` attribute. \n",
    "\n",
    "If we want to rename only one or a few of the columns, it's handy to use the `.rename` method. "
   ]
  },
  {
   "cell_type": "code",
   "execution_count": null,
   "metadata": {},
   "outputs": [],
   "source": [
    "# 'year', 'month', 'day', 'timeofday', 'dayofweek', 'city', 'intersection', 'hitandrun', \n",
    "#                  'lighting', 'weather', 'speedlimit', 'worstinjury', 'partytype', 'age', 'gender'\n"
   ]
  },
  {
   "cell_type": "markdown",
   "metadata": {},
   "source": [
    "### Checking missing values\n",
    "In many real-world datasets you'll find missing values. These can interfere with data analysis processes, so we check for these first."
   ]
  },
  {
   "cell_type": "code",
   "execution_count": null,
   "metadata": {},
   "outputs": [],
   "source": []
  },
  {
   "cell_type": "markdown",
   "metadata": {},
   "source": [
    "### Subsetting columns\n",
    "To select a single column we can use something like either `crash.city` or `crash['city]`. \n",
    "\n",
    "To select multiple columns we can use something like `crash[['city', 'lighting', 'speedlimit']]`"
   ]
  },
  {
   "cell_type": "code",
   "execution_count": null,
   "metadata": {},
   "outputs": [],
   "source": []
  },
  {
   "cell_type": "markdown",
   "metadata": {},
   "source": [
    "### Value counts\n",
    "Pandas `value_counts()` method gives us the number of times each value shows up in the given column (often called a pandas Series)."
   ]
  },
  {
   "cell_type": "code",
   "execution_count": null,
   "metadata": {},
   "outputs": [],
   "source": []
  },
  {
   "cell_type": "markdown",
   "metadata": {},
   "source": [
    "### Number of unique values\n",
    "Pandas `nunique()` method gives us the number of unique values in a column"
   ]
  },
  {
   "cell_type": "code",
   "execution_count": null,
   "metadata": {},
   "outputs": [],
   "source": []
  },
  {
   "cell_type": "markdown",
   "metadata": {},
   "source": [
    "### Filtering a dataframe"
   ]
  },
  {
   "cell_type": "code",
   "execution_count": null,
   "metadata": {},
   "outputs": [],
   "source": []
  },
  {
   "cell_type": "markdown",
   "metadata": {},
   "source": [
    "### Creating a new column"
   ]
  },
  {
   "cell_type": "code",
   "execution_count": null,
   "metadata": {},
   "outputs": [],
   "source": []
  },
  {
   "cell_type": "markdown",
   "metadata": {},
   "source": [
    "### Deleting a column\n",
    "Pandas `.drop` method allows us to delete a list of columns by name."
   ]
  },
  {
   "cell_type": "code",
   "execution_count": null,
   "metadata": {},
   "outputs": [],
   "source": []
  },
  {
   "cell_type": "markdown",
   "metadata": {},
   "source": [
    "### Accessing a row\n",
    "Pandas `.iloc` method allows us to access specified rows by position."
   ]
  },
  {
   "cell_type": "code",
   "execution_count": null,
   "metadata": {},
   "outputs": [],
   "source": []
  },
  {
   "cell_type": "markdown",
   "metadata": {},
   "source": [
    "### Saving a dataframe to file\n",
    "\n",
    "Pandas `to_csv` method writes the dataframe to a CSV file. "
   ]
  },
  {
   "cell_type": "code",
   "execution_count": null,
   "metadata": {},
   "outputs": [],
   "source": []
  },
  {
   "cell_type": "markdown",
   "metadata": {},
   "source": [
    "## Exercises"
   ]
  },
  {
   "cell_type": "markdown",
   "metadata": {},
   "source": [
    "### 1. Rename some of the column names in the `credit` dataframe  (e.g., from \"speedlimit\" to \"Speed_Limit\").\n",
    "\n",
    "### Once done, check the dataframe to make sure they are indeed renamed."
   ]
  },
  {
   "cell_type": "code",
   "execution_count": null,
   "metadata": {},
   "outputs": [],
   "source": []
  },
  {
   "cell_type": "markdown",
   "metadata": {},
   "source": [
    "### 2. Select any 3 columns of your choice, and save it as a new dataframe called \"crash_new\". \n",
    "\n",
    "### Once done, show the first rows of the new dataframe. "
   ]
  },
  {
   "cell_type": "code",
   "execution_count": null,
   "metadata": {},
   "outputs": [],
   "source": []
  },
  {
   "cell_type": "markdown",
   "metadata": {},
   "source": [
    "### 3. What percentage of the crashes are fatal?"
   ]
  },
  {
   "cell_type": "code",
   "execution_count": null,
   "metadata": {},
   "outputs": [],
   "source": []
  },
  {
   "cell_type": "markdown",
   "metadata": {},
   "source": [
    "### Further resources on pandas\n",
    "\n",
    "* On YouTube search <font color='red' >python pandas</font>: https://www.youtube.com/results?search_query=python+pandas\n",
    "\n",
    "\n",
    "* Data Wrangling with pandas Cheat Sheet: https://pandas.pydata.org/Pandas_Cheat_Sheet.pdf\n",
    "\n",
    "\n",
    "* Pandas official documentation: https://pandas.pydata.org/pandas-docs/stable/getting_started/overview.html"
   ]
  }
 ],
 "metadata": {
  "kernelspec": {
   "display_name": "Python 3",
   "language": "python",
   "name": "python3"
  },
  "language_info": {
   "codemirror_mode": {
    "name": "ipython",
    "version": 3
   },
   "file_extension": ".py",
   "mimetype": "text/x-python",
   "name": "python",
   "nbconvert_exporter": "python",
   "pygments_lexer": "ipython3",
   "version": "3.6.8"
  }
 },
 "nbformat": 4,
 "nbformat_minor": 2
}
