{
 "cells": [
  {
   "cell_type": "markdown",
   "metadata": {},
   "source": [
    "# Introduction to Data Analysis in Python\n",
    "\n",
    "## Part I - Python basics\n",
    "\n",
    "### Instructor: Fred Feng"
   ]
  },
  {
   "cell_type": "markdown",
   "metadata": {},
   "source": [
    "<hr style=\"height:2px; border:none; color:black; background-color:black;\">"
   ]
  },
  {
   "cell_type": "markdown",
   "metadata": {},
   "source": [
    "## Variable types"
   ]
  },
  {
   "cell_type": "code",
   "execution_count": null,
   "metadata": {},
   "outputs": [],
   "source": []
  },
  {
   "cell_type": "markdown",
   "metadata": {},
   "source": [
    "### Some useful keyboard shortcuts for Jupyter Notebook (replace `Ctrl` with `Command` on a Mac)\n",
    "\n",
    "* `Ctrl + ENTER` Run the current cell\n",
    "\n",
    "* `Shift + ENTER` Run the current cell, select the cell below\n",
    "\n",
    "* `Ctrl + /` Comment on current or selected lines\n",
    "\n",
    "For a complete list of the keyboard shortcuts, go to the `Help` menu above, then click `Keyboard Shortcuts`."
   ]
  },
  {
   "cell_type": "markdown",
   "metadata": {},
   "source": [
    "### Arithmetic operators\n",
    "\n",
    "| Python operator | Meaning | Example |\n",
    "|----------|---------|---------|\n",
    "| $+$ | Addition | $1+2$ gives $3$ |\n",
    "| $-$ | Subtraction | $8-2$ gives $6$ |\n",
    "| $*$ | Multiplication | $2*3$ gives $6$ |\n",
    "| $/$ | Division | $8$ $/$ $4$ gives $2$ |\n",
    "| $**$ | Exponent | $2$ $**$ $3$ gives $8$ |\n",
    "| $\\%$ | Modulus |    $10$ $\\%$ $3$ gives $1$ |"
   ]
  },
  {
   "cell_type": "markdown",
   "metadata": {},
   "source": [
    "### The volume of a sphere with radius $r$ is $\\frac{4}{3}\\pi r^3$. What is the volume of a sphere with a radius of 5?\n",
    "\n",
    "<img src=\"http://www-personal.umich.edu/~fredfeng/Files/sphere.png\" alt=\"sphere\" width=\"150\"/>"
   ]
  },
  {
   "cell_type": "code",
   "execution_count": null,
   "metadata": {},
   "outputs": [],
   "source": []
  },
  {
   "cell_type": "markdown",
   "metadata": {},
   "source": [
    "### Some useful mathematical functions in numpy:\n",
    "\n",
    "* Square root: `np.sqrt()`\n",
    "\n",
    "* Exponential function: `np.exp()`\n",
    "\n",
    "* Natural logarithm: `np.log()`\n",
    "\n",
    "* Base 10 logarithm: `np.log10()`\n",
    "\n",
    "Find more math functions in numpy at https://docs.scipy.org/doc/numpy-1.13.0/reference/routines.math.html"
   ]
  },
  {
   "cell_type": "markdown",
   "metadata": {},
   "source": [
    "### Comparison operators\n",
    "\n",
    "| Algebraic operator | Python operator | Meaning |\n",
    "|----------|---------|---------|\n",
    "| a > b | a > b | a is greater than b |\n",
    "| a < b | a < b | a is less than b |\n",
    "| a $\\geq$ b | a >= b | a is greater than or equal to b |\n",
    "| a $\\leq$ b | a <= b | a is less than or equal to b |\n",
    "| a = b | a == b | a is equal to b |\n",
    "| a $\\ne$ b | a != b |  a is <font color='red'>not</font> equal to b |\n"
   ]
  },
  {
   "cell_type": "code",
   "execution_count": null,
   "metadata": {},
   "outputs": [],
   "source": []
  },
  {
   "cell_type": "markdown",
   "metadata": {},
   "source": [
    "### `if` statements"
   ]
  },
  {
   "cell_type": "code",
   "execution_count": null,
   "metadata": {},
   "outputs": [],
   "source": []
  },
  {
   "cell_type": "markdown",
   "metadata": {},
   "source": [
    "### Descriptive statistics"
   ]
  },
  {
   "cell_type": "code",
   "execution_count": null,
   "metadata": {},
   "outputs": [],
   "source": []
  },
  {
   "cell_type": "markdown",
   "metadata": {},
   "source": [
    "### `for` loop\n",
    "\n",
    "It performs its action(s) **for each item in a sequence of items**."
   ]
  },
  {
   "cell_type": "code",
   "execution_count": null,
   "metadata": {},
   "outputs": [],
   "source": []
  },
  {
   "cell_type": "markdown",
   "metadata": {},
   "source": [
    "## Exercises"
   ]
  },
  {
   "cell_type": "markdown",
   "metadata": {},
   "source": [
    "### 1. For each of the arithmetic operators $+$, $-$, $*$, $/$, and $**$, display the value of an expression with 27.5 as the left operand and 2 as the right operand. "
   ]
  },
  {
   "cell_type": "code",
   "execution_count": 1,
   "metadata": {},
   "outputs": [],
   "source": [
    "# for example,\n",
    "27.5 + 2\n"
   ]
  },
  {
   "cell_type": "markdown",
   "metadata": {},
   "source": [
    "### 2: Write some code to convert 85 degrees Fahrenheit to Celsius. Print the output. The formula is\n",
    "\n",
    "<h3>$$^\\circ C=\\frac{5}{9}(^\\circ F-32)$$<h3>\n"
   ]
  },
  {
   "cell_type": "code",
   "execution_count": null,
   "metadata": {},
   "outputs": [],
   "source": []
  },
  {
   "cell_type": "markdown",
   "metadata": {},
   "source": [
    "### Can you create a Python function to achieve the same goal? "
   ]
  },
  {
   "cell_type": "code",
   "execution_count": null,
   "metadata": {},
   "outputs": [],
   "source": []
  },
  {
   "cell_type": "markdown",
   "metadata": {},
   "source": [
    "### 3. Write some code to calculate and print the value of the formula\n",
    "<h3>$$y=\\sqrt{2x^2+3x+2} \\text{  where  } x=3$$<h3>"
   ]
  },
  {
   "cell_type": "code",
   "execution_count": null,
   "metadata": {},
   "outputs": [],
   "source": []
  },
  {
   "cell_type": "markdown",
   "metadata": {},
   "source": [
    "### 4. Based on the `ages` list above, can you print the ages of only the adults (i.e., 18 or older)?\n",
    "\n",
    "### Hint: you can use a combination of the `for` loop and `if` statement."
   ]
  },
  {
   "cell_type": "code",
   "execution_count": null,
   "metadata": {},
   "outputs": [],
   "source": []
  },
  {
   "cell_type": "markdown",
   "metadata": {},
   "source": [
    "### Further resources \n",
    "\n",
    "* \"Think Python\" 2nd Edition by Allen B. Downey. Chapters 1-3, Freely available at https://greenteapress.com/wp/think-python-2e/\n",
    "\n",
    "\n",
    "* The Ultimate Markdown Guide. https://medium.com/analytics-vidhya/the-ultimate-markdown-guide-for-jupyter-notebook-d5e5abf728fd"
   ]
  }
 ],
 "metadata": {
  "kernelspec": {
   "display_name": "Python 3",
   "language": "python",
   "name": "python3"
  },
  "language_info": {
   "codemirror_mode": {
    "name": "ipython",
    "version": 3
   },
   "file_extension": ".py",
   "mimetype": "text/x-python",
   "name": "python",
   "nbconvert_exporter": "python",
   "pygments_lexer": "ipython3",
   "version": "3.6.8"
  }
 },
 "nbformat": 4,
 "nbformat_minor": 2
}
