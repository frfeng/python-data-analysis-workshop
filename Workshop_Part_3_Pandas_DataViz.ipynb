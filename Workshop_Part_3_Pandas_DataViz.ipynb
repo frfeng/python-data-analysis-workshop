{
 "cells": [
  {
   "cell_type": "markdown",
   "metadata": {},
   "source": [
    "# Introduction to Data Analysis in Python\n",
    "\n",
    "## Part III - Data analysis using `pandas` (cont'd) and visualization using `matplotlib`\n",
    "\n",
    "### Instructor: Fred Feng"
   ]
  },
  {
   "cell_type": "markdown",
   "metadata": {},
   "source": [
    "<hr style=\"height:2px; border:none; color:black; background-color:black;\">"
   ]
  },
  {
   "cell_type": "code",
   "execution_count": null,
   "metadata": {},
   "outputs": [],
   "source": []
  },
  {
   "cell_type": "markdown",
   "metadata": {},
   "source": [
    "### Let's use a data set of customer credit card balance. The data file is `Credit.csv`\n",
    "\n",
    "Data source: \n",
    "https://rdrr.io/cran/ISLR/man/Credit.html"
   ]
  },
  {
   "cell_type": "code",
   "execution_count": null,
   "metadata": {},
   "outputs": [],
   "source": []
  },
  {
   "cell_type": "markdown",
   "metadata": {},
   "source": [
    "### Describe\n",
    "Pandas `.describe` mathod offers a quick way to get a statistical summary of all numerical columns of the dataframe."
   ]
  },
  {
   "cell_type": "code",
   "execution_count": null,
   "metadata": {},
   "outputs": [],
   "source": []
  },
  {
   "cell_type": "markdown",
   "metadata": {},
   "source": [
    "You can also use methods such as `.mean`, `median`, `min`, `max`, `quantile`, `std`, `var` to get specific descriptive statistics. "
   ]
  },
  {
   "cell_type": "code",
   "execution_count": null,
   "metadata": {},
   "outputs": [],
   "source": []
  },
  {
   "cell_type": "markdown",
   "metadata": {},
   "source": [
    "### Sort values\n",
    "Pandas `sort_values` method let us sort the rows by the values of column(s)."
   ]
  },
  {
   "cell_type": "code",
   "execution_count": null,
   "metadata": {},
   "outputs": [],
   "source": []
  },
  {
   "cell_type": "markdown",
   "metadata": {},
   "source": [
    "## Group-by (split-apply-combine)\n",
    "\n",
    "Pandas `groupby()` method involves some combination of splitting the data, applying some function, and combining the result. \n",
    "\n",
    "<img src=\"https://jakevdp.github.io/figures/split-apply-combine.svg\" alt=\"split-apply-combine\" width=\"800\"/>\n",
    "\n",
    "Image source: https://jakevdp.github.io/figures/split-apply-combine.svg"
   ]
  },
  {
   "cell_type": "code",
   "execution_count": null,
   "metadata": {},
   "outputs": [],
   "source": []
  },
  {
   "cell_type": "markdown",
   "metadata": {},
   "source": [
    "Pandas `pivot_table()` function create a spreadsheet-style <a href='https://en.wikipedia.org/wiki/Pivot_table'>pivot table</a> that summarizes the original dataframe."
   ]
  },
  {
   "cell_type": "code",
   "execution_count": null,
   "metadata": {},
   "outputs": [],
   "source": []
  },
  {
   "cell_type": "markdown",
   "metadata": {},
   "source": [
    "## Data visualization with `matplotlib` and `seaborn`\n",
    "\n",
    "**Matplotlib** is a powerful Python library for data visualization (https://matplotlib.org/)\n",
    "\n",
    "### We will first need to import the `matplotlib` library."
   ]
  },
  {
   "cell_type": "code",
   "execution_count": null,
   "metadata": {},
   "outputs": [],
   "source": []
  },
  {
   "cell_type": "markdown",
   "metadata": {},
   "source": [
    "### Scatter plot"
   ]
  },
  {
   "cell_type": "code",
   "execution_count": null,
   "metadata": {},
   "outputs": [],
   "source": []
  },
  {
   "cell_type": "markdown",
   "metadata": {},
   "source": [
    "#### Tips on setting colors\n",
    "* you can common color names at: https://matplotlib.org/examples/color/named_colors.html\n",
    "\n",
    "* For full customization, you can also use the Hex color format, for example, `facecolor = '#ffcb05'` for U-M maize color. "
   ]
  },
  {
   "cell_type": "markdown",
   "metadata": {},
   "source": [
    "### Line plot"
   ]
  },
  {
   "cell_type": "code",
   "execution_count": null,
   "metadata": {},
   "outputs": [],
   "source": []
  },
  {
   "cell_type": "markdown",
   "metadata": {},
   "source": [
    "**Fun fact:** We can even make xkcd (https://xkcd.com/ ) style plotting using `with plt.xkcd():`"
   ]
  },
  {
   "cell_type": "code",
   "execution_count": null,
   "metadata": {},
   "outputs": [],
   "source": []
  },
  {
   "cell_type": "markdown",
   "metadata": {},
   "source": [
    "### Histogram"
   ]
  },
  {
   "cell_type": "code",
   "execution_count": null,
   "metadata": {},
   "outputs": [],
   "source": []
  },
  {
   "cell_type": "markdown",
   "metadata": {},
   "source": [
    "### Seaborn \n",
    "Seaborn is a statistical data visualization library in Python. It is based on matplotlib.\n",
    "\n",
    "For examples of what seaborn can do, see https://seaborn.pydata.org/examples/index.html"
   ]
  },
  {
   "cell_type": "code",
   "execution_count": null,
   "metadata": {},
   "outputs": [],
   "source": []
  },
  {
   "cell_type": "markdown",
   "metadata": {},
   "source": [
    "## Exercises"
   ]
  },
  {
   "cell_type": "markdown",
   "metadata": {},
   "source": [
    "### Use what you just learned to make some new plots!"
   ]
  },
  {
   "cell_type": "code",
   "execution_count": null,
   "metadata": {},
   "outputs": [],
   "source": []
  },
  {
   "cell_type": "markdown",
   "metadata": {},
   "source": [
    "### Further resources on matplotlib\n",
    "\n",
    "* Matplotlib official tutorials: https://matplotlib.org/tutorials/index.html\n",
    "\n",
    "\n",
    "* Python Data Science Handbook, Chapter 4: https://jakevdp.github.io/PythonDataScienceHandbook/index.html#4.-Visualization-with-Matplotlib"
   ]
  }
 ],
 "metadata": {
  "kernelspec": {
   "display_name": "Python 3",
   "language": "python",
   "name": "python3"
  },
  "language_info": {
   "codemirror_mode": {
    "name": "ipython",
    "version": 3
   },
   "file_extension": ".py",
   "mimetype": "text/x-python",
   "name": "python",
   "nbconvert_exporter": "python",
   "pygments_lexer": "ipython3",
   "version": "3.6.8"
  }
 },
 "nbformat": 4,
 "nbformat_minor": 2
}
